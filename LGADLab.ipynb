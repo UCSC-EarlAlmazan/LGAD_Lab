{
 "cells": [
  {
   "cell_type": "code",
   "execution_count": 3,
   "id": "ed7ce663-979c-49f6-9e11-48820794cd10",
   "metadata": {},
   "outputs": [],
   "source": [
    "# importing element tree\n",
    "# under the alias of ET\n",
    "import numpy as np\n",
    "import pandas as pd\n",
    "import xml.etree.ElementTree as ET\n",
    "from matplotlib import pyplot as plt\n",
    "#import ROOT as root\n",
    "from array import array\n"
   ]
  },
  {
   "cell_type": "markdown",
   "id": "10a86ab0",
   "metadata": {},
   "source": [
    "Now that we have recorded real data, let's get a handle on processing waveforms to derive the jitter in these LGADs."
   ]
  },
  {
   "cell_type": "code",
   "execution_count": 4,
   "id": "02f17e39-5e11-4971-b2a1-eec72a3df0f8",
   "metadata": {},
   "outputs": [],
   "source": [
    "# Define a function to readout data from xml file, and return said data as a time list, voltage list, and event number.\n",
    "def data_readout(file):\n",
    "    time_list = []\n",
    "    volt_list = []\n",
    "    event_list = []\n",
    "    # Passing the path of the\n",
    "    # xml document to enable the\n",
    "    # parsing process\n",
    "    xmlfile = ET.parse(file)\n",
    "\n",
    "    # getting the parent tag of\n",
    "    # the xml document\n",
    "    parsedxml = xmlfile.getroot()\n",
    "    counteve=0\n",
    "    for child in parsedxml:\n",
    "        counteve=counteve+1\n",
    "        t_evt=[]\n",
    "        v_evt=[]\n",
    "        counter=0\n",
    "        for child in child[4][2]:\n",
    "            data_string=child.text\n",
    "            split_data = data_string.split(',')\n",
    "            t_step = float(split_data[0])\n",
    "            v_step = float(split_data[1])\n",
    "            t_evt.append(t_step)\n",
    "            v_evt.append(v_step)\n",
    "            counter=counter+1\n",
    "            #print(counter, t_step, v_step)\n",
    "        time_list.append(t_evt)\n",
    "        volt_list.append(v_evt)\n",
    "        event_list.append(counteve-1)\n",
    "    print(\"end\")\n",
    "    return time_list, volt_list, event_list"
   ]
  },
  {
   "cell_type": "code",
   "execution_count": 9,
   "id": "a133e778-a3d9-4716-943a-da8830deec84",
   "metadata": {},
   "outputs": [
    {
     "name": "stdout",
     "output_type": "stream",
     "text": [
      "end\n",
      "[[   1.533    2.533    3.533 ... 1022.533 1023.533 1024.533]\n",
      " [   1.676    2.676    3.676 ... 1022.676 1023.676 1024.676]\n",
      " [   1.604    2.604    3.604 ... 1022.604 1023.604 1024.604]\n",
      " ...\n",
      " [   1.672    2.672    3.672 ... 1022.672 1023.672 1024.672]\n",
      " [   1.674    2.674    3.674 ... 1022.674 1023.674 1024.674]\n",
      " [   1.618    2.618    3.618 ... 1022.618 1023.618 1024.618]]\n",
      "[[ -0.3 -32.3 -60.9 ... -33.1 -56.4 -79.1]\n",
      " [ -1.3 -28.8 -57.5 ... -31.  -60.  -81.7]\n",
      " [  1.9 -33.  -61.1 ... -29.1 -58.1 -80.6]\n",
      " ...\n",
      " [  2.2 -32.7 -60.7 ... -30.5 -61.2 -79. ]\n",
      " [  0.4 -31.9 -59.3 ... -28.6 -59.3 -82.9]\n",
      " [ -2.2 -28.7 -59.9 ... -31.8 -56.9 -83.3]]\n",
      "[0, 1, 2, 3, 4, 5, 6, 7, 8, 9, 10, 11, 12, 13, 14, 15, 16, 17, 18, 19, 20, 21, 22, 23, 24, 25, 26, 27, 28, 29, 30, 31, 32, 33, 34, 35, 36, 37, 38, 39, 40, 41, 42, 43, 44, 45, 46, 47, 48, 49, 50, 51, 52, 53, 54, 55, 56, 57, 58, 59, 60, 61, 62, 63, 64, 65, 66, 67, 68, 69, 70, 71, 72, 73, 74, 75, 76, 77, 78, 79, 80, 81, 82, 83, 84, 85, 86, 87, 88, 89, 90, 91, 92, 93, 94, 95, 96, 97, 98, 99]\n"
     ]
    }
   ],
   "source": [
    "# Extract data from our target xml file\n",
    "time_list, volt_list, event_list = data_readout(NAME OF FILE HERE)\n",
    "\n",
    "# Let's print out what the extracted data looks like.\n",
    "time = np.array(time_list)\n",
    "volt = -1*np.array(volt_list) #voltage sign flipped to ensure waveform peak is positive.\n",
    "event = np.array(event_list)\n",
    "print(time) # in ns\n",
    "print(volt) # in mV\n",
    "#print(event_list)"
   ]
  },
  {
   "cell_type": "markdown",
   "id": "d276afaf",
   "metadata": {},
   "source": [
    "With this data in hand, let's visualize some of it.\\\n",
    "Plot at least one of the waveforms (time vs voltage) to check that we're getting some non-negligible signal, and a general idea of what the average pmax and tmax will be.\\\n",
    "Would also be helpful to plot all waveforms on top of one another.\\\n",
    "\\\n",
    "Shown below is a toy example, showing the different attributes of waveforms we will dive into and use throughout the lab."
   ]
  },
  {
   "cell_type": "markdown",
   "id": "9bfac7c2",
   "metadata": {},
   "source": [
    "![image](toy_example.png)"
   ]
  },
  {
   "cell_type": "code",
   "execution_count": null,
   "id": "989b9c86",
   "metadata": {},
   "outputs": [],
   "source": []
  },
  {
   "cell_type": "markdown",
   "id": "ebc6ac2e",
   "metadata": {},
   "source": [
    "Next, save the tmax and pmax of each event into a list we can access later."
   ]
  },
  {
   "cell_type": "code",
   "execution_count": null,
   "id": "2b84d116",
   "metadata": {},
   "outputs": [],
   "source": []
  },
  {
   "cell_type": "markdown",
   "id": "9066ad84",
   "metadata": {},
   "source": [
    "Plotting out the distributions of pmax and tmax could give us a rough idea of what our data looks like from a macroscopic lens. Helps in case something went wrong for some events."
   ]
  },
  {
   "cell_type": "code",
   "execution_count": null,
   "id": "2712c56c",
   "metadata": {},
   "outputs": [],
   "source": []
  },
  {
   "cell_type": "markdown",
   "id": "967e347b",
   "metadata": {},
   "source": [
    "Finally for now, calculate the average waveform, and plot it."
   ]
  },
  {
   "cell_type": "code",
   "execution_count": null,
   "id": "1cd600d1",
   "metadata": {},
   "outputs": [],
   "source": []
  },
  {
   "cell_type": "markdown",
   "id": "bb1439da",
   "metadata": {},
   "source": [
    "Now, we can calculate jitter for this dataset. There are a few ways to do it, and its execution is an exercise left to the reader.\\\n",
    "\\\n",
    "\\\n",
    "Rise Time = time between 10% of pmax to 90% of pmax in the rising side of the waveform \\\n",
    "SNR = Signal to Noise Ratio = Power of Signal divided by Power of Noise \\\n",
    "Slew Rate = Voltage over time from 10% of pmax to 90% of pmax"
   ]
  },
  {
   "cell_type": "markdown",
   "id": "dfcb0644",
   "metadata": {},
   "source": [
    "$$ Jitter = {Rise Time \\over SNR} = {RMS_{Noise} \\over Slew Rate} $$"
   ]
  },
  {
   "cell_type": "code",
   "execution_count": null,
   "id": "7477f776",
   "metadata": {},
   "outputs": [],
   "source": []
  },
  {
   "cell_type": "markdown",
   "id": "c20673d1",
   "metadata": {},
   "source": [
    "From here on, your team is free to explore more attributes and trends that could be derived from this data.\\\n",
    "If the PIN diode was also used, it should be possible to calculate the gain at different voltages."
   ]
  },
  {
   "cell_type": "code",
   "execution_count": null,
   "id": "0611d300",
   "metadata": {},
   "outputs": [],
   "source": []
  }
 ],
 "metadata": {
  "kernelspec": {
   "display_name": "Python 3 (ipykernel)",
   "language": "python",
   "name": "python3"
  },
  "language_info": {
   "codemirror_mode": {
    "name": "ipython",
    "version": 3
   },
   "file_extension": ".py",
   "mimetype": "text/x-python",
   "name": "python",
   "nbconvert_exporter": "python",
   "pygments_lexer": "ipython3",
   "version": "3.10.10"
  }
 },
 "nbformat": 4,
 "nbformat_minor": 5
}
